{
 "cells": [
  {
   "cell_type": "markdown",
   "id": "d1c3719e625422e6",
   "metadata": {
    "collapsed": false,
    "jp-MarkdownHeadingCollapsed": true,
    "jupyter": {
     "outputs_hidden": false
    }
   },
   "source": [
    "# Imports"
   ]
  },
  {
   "cell_type": "code",
   "execution_count": null,
   "id": "dd4789cc959a0122",
   "metadata": {
    "collapsed": false,
    "jupyter": {
     "outputs_hidden": false
    }
   },
   "outputs": [],
   "source": [
    "%cd '/opt/itmo-bigdata/hw2'\n",
    "!pip install poetry\n",
    "!poetry config virtualenvs.create false\n",
    "!poetry install --no-root"
   ]
  },
  {
   "cell_type": "code",
   "execution_count": 14,
   "id": "be52e1a27fe43302",
   "metadata": {
    "ExecuteTime": {
     "end_time": "2023-12-13T16:33:53.363311Z",
     "start_time": "2023-12-13T16:33:53.120295Z"
    },
    "collapsed": false,
    "jupyter": {
     "outputs_hidden": false
    }
   },
   "outputs": [],
   "source": [
    "import pandas as pd\n",
    "from pyspark import SparkConf\n",
    "from pyspark.sql import SparkSession\n",
    "from pyspark.sql.types import *\n",
    "from pyspark.sql.functions import *\n",
    "from pyspark.ml.evaluation import RegressionEvaluator\n",
    "from sklearn.linear_model import SGDRegressor\n",
    "from sklearn.feature_extraction.text import TfidfVectorizer"
   ]
  },
  {
   "cell_type": "markdown",
   "id": "4a64c354ee0f85e8",
   "metadata": {
    "collapsed": false,
    "jp-MarkdownHeadingCollapsed": true,
    "jupyter": {
     "outputs_hidden": false
    }
   },
   "source": [
    "# Block #1"
   ]
  },
  {
   "cell_type": "markdown",
   "id": "7ae193dcaa730d88",
   "metadata": {
    "collapsed": false,
    "jp-MarkdownHeadingCollapsed": true,
    "jupyter": {
     "outputs_hidden": false
    }
   },
   "source": [
    "## Loading files to Hadoop"
   ]
  },
  {
   "cell_type": "code",
   "execution_count": null,
   "id": "c15e3e535294bd3b",
   "metadata": {
    "collapsed": false,
    "jupyter": {
     "outputs_hidden": false
    }
   },
   "outputs": [],
   "source": [
    "!apt install wget unzip -y"
   ]
  },
  {
   "cell_type": "code",
   "execution_count": null,
   "id": "fcc335154b837b26",
   "metadata": {
    "collapsed": false,
    "jupyter": {
     "outputs_hidden": false
    }
   },
   "outputs": [],
   "source": [
    "%cd '/opt/itmo-bigdata/hw2/hadoop-notebook'\n",
    "!rm -rf 'ml-latest-small'\n",
    "!wget -q 'https://files.grouplens.org/datasets/movielens/ml-latest-small.zip' -O 'ml-latest-small.zip'\n",
    "!unzip 'ml-latest-small.zip'\n",
    "!rm 'ml-latest-small.zip'"
   ]
  },
  {
   "cell_type": "code",
   "execution_count": 22,
   "id": "1a4eb131ddde4665",
   "metadata": {
    "ExecuteTime": {
     "end_time": "2023-12-13T16:36:23.644320Z",
     "start_time": "2023-12-13T16:36:11.071355Z"
    },
    "collapsed": false,
    "jupyter": {
     "outputs_hidden": false
    }
   },
   "outputs": [
    {
     "name": "stdout",
     "output_type": "stream",
     "text": [
      "Safe mode is OFF\n",
      "Deleted ml-latest-small\n"
     ]
    }
   ],
   "source": [
    "!hdfs dfsadmin -safemode leave\n",
    "!hdfs dfs -rm -r ml-latest-small\n",
    "!hdfs dfs -put ml-latest-small"
   ]
  },
  {
   "cell_type": "markdown",
   "id": "1658d63dc3c41524",
   "metadata": {
    "collapsed": false,
    "jp-MarkdownHeadingCollapsed": true,
    "jupyter": {
     "outputs_hidden": false
    }
   },
   "source": [
    "## Set up Spark"
   ]
  },
  {
   "cell_type": "code",
   "execution_count": null,
   "id": "cb7c2f6ad9395f3b",
   "metadata": {
    "ExecuteTime": {
     "end_time": "2023-12-13T17:30:06.079651Z",
     "start_time": "2023-12-13T17:30:06.028625Z"
    },
    "collapsed": false,
    "jupyter": {
     "outputs_hidden": false
    }
   },
   "outputs": [],
   "source": [
    "%cd '/opt/itmo-bigdata/hw2/hadoop-notebook'\n",
    "conf = SparkConf().set(\"spark.executor.instances\", \"2\").set(\"spark.executor.cores\", \"1\").set(\"spark.executor.memory\", \"1g\")"
   ]
  },
  {
   "cell_type": "code",
   "execution_count": null,
   "id": "fa21a37291ecc0e",
   "metadata": {
    "ExecuteTime": {
     "end_time": "2023-12-13T18:05:49.341254Z",
     "start_time": "2023-12-13T18:05:25.857025Z"
    },
    "collapsed": false,
    "jupyter": {
     "outputs_hidden": false
    }
   },
   "outputs": [],
   "source": [
    "spark = SparkSession.builder.master(\"yarn\").appName(\"kopecky_spark\").getOrCreate()"
   ]
  },
  {
   "cell_type": "code",
   "execution_count": 27,
   "id": "cedd3bd8dfec64",
   "metadata": {
    "ExecuteTime": {
     "end_time": "2023-12-13T17:41:55.826957Z",
     "start_time": "2023-12-13T17:41:55.742381Z"
    },
    "collapsed": false,
    "jupyter": {
     "outputs_hidden": false
    }
   },
   "outputs": [
    {
     "data": {
      "text/html": [
       "\n",
       "            <div>\n",
       "                <p><b>SparkSession - in-memory</b></p>\n",
       "                \n",
       "        <div>\n",
       "            <p><b>SparkContext</b></p>\n",
       "\n",
       "            <p><a href=\"http://bea39126b963:4040\">Spark UI</a></p>\n",
       "\n",
       "            <dl>\n",
       "              <dt>Version</dt>\n",
       "                <dd><code>v3.5.0</code></dd>\n",
       "              <dt>Master</dt>\n",
       "                <dd><code>yarn</code></dd>\n",
       "              <dt>AppName</dt>\n",
       "                <dd><code>kopecky_spark</code></dd>\n",
       "            </dl>\n",
       "        </div>\n",
       "        \n",
       "            </div>\n",
       "        "
      ],
      "text/plain": [
       "<pyspark.sql.session.SparkSession at 0x7fffc32d1750>"
      ]
     },
     "execution_count": 27,
     "metadata": {},
     "output_type": "execute_result"
    }
   ],
   "source": [
    "spark"
   ]
  },
  {
   "cell_type": "markdown",
   "id": "e9ffd36f9f119cc5",
   "metadata": {
    "collapsed": false,
    "jp-MarkdownHeadingCollapsed": true,
    "jupyter": {
     "outputs_hidden": false
    }
   },
   "source": [
    "## ResourceManager & Spark UI Screens"
   ]
  },
  {
   "cell_type": "markdown",
   "id": "4d2ff0bf45db268e",
   "metadata": {
    "collapsed": false,
    "jp-MarkdownHeadingCollapsed": true,
    "jupyter": {
     "outputs_hidden": false
    }
   },
   "source": [
    "### 'kopecky_spark' application in ResourceManager\n",
    "![resource manager screen](images/rm_screen.png)"
   ]
  },
  {
   "cell_type": "markdown",
   "id": "eb63874918d5dc39",
   "metadata": {
    "collapsed": false,
    "jupyter": {
     "outputs_hidden": false
    }
   },
   "source": [
    "### 'kopecky_spark' application in Spark UI\n",
    "![spark ui screen](images/spark_ui_screen.png)"
   ]
  },
  {
   "cell_type": "markdown",
   "id": "1fa6a8cd9312dd73",
   "metadata": {
    "collapsed": false,
    "jupyter": {
     "outputs_hidden": false
    }
   },
   "source": [
    "### Executors in Spark UI\n",
    "![spark ui screen](images/spark_ui_executors_screen.png)"
   ]
  },
  {
   "cell_type": "markdown",
   "id": "a5bcea34efdac686",
   "metadata": {
    "collapsed": false,
    "jupyter": {
     "outputs_hidden": false
    }
   },
   "source": [
    "## Spark Jobs"
   ]
  },
  {
   "cell_type": "code",
   "execution_count": 28,
   "id": "8627d825ce656ab8",
   "metadata": {
    "ExecuteTime": {
     "end_time": "2023-12-13T18:06:44.398840Z",
     "start_time": "2023-12-13T18:06:39.911653Z"
    },
    "collapsed": false,
    "jupyter": {
     "outputs_hidden": false
    }
   },
   "outputs": [
    {
     "name": "stderr",
     "output_type": "stream",
     "text": [
      "[Stage 0:>                                                          (0 + 1) / 1]\r"
     ]
    },
    {
     "name": "stdout",
     "output_type": "stream",
     "text": [
      "+------+-------+------+---------+\n",
      "|userId|movieId|rating|timestamp|\n",
      "+------+-------+------+---------+\n",
      "|     1|      1|   4.0|964982703|\n",
      "|     1|      3|   4.0|964981247|\n",
      "|     1|      6|   4.0|964982224|\n",
      "|     1|     47|   5.0|964983815|\n",
      "|     1|     50|   5.0|964982931|\n",
      "|     1|     70|   3.0|964982400|\n",
      "|     1|    101|   5.0|964980868|\n",
      "|     1|    110|   4.0|964982176|\n",
      "|     1|    151|   5.0|964984041|\n",
      "|     1|    157|   5.0|964984100|\n",
      "+------+-------+------+---------+\n",
      "only showing top 10 rows\n",
      "\n"
     ]
    },
    {
     "name": "stderr",
     "output_type": "stream",
     "text": [
      "                                                                                \r"
     ]
    }
   ],
   "source": [
    "ratings_schema = StructType(fields=[\n",
    "    StructField(\"userId\", IntegerType()),\n",
    "    StructField(\"movieId\", IntegerType()),\n",
    "    StructField(\"rating\", DoubleType()),\n",
    "    StructField(\"timestamp\", LongType()),\n",
    "])\n",
    "\n",
    "ratings_df = (spark\n",
    "              .read\n",
    "              .format(\"csv\")\n",
    "              .option(\"header\", \"True\")\n",
    "              .schema(ratings_schema)\n",
    "              .load(\"ml-latest-small/ratings.csv\")\n",
    "              )\n",
    "\n",
    "ratings_df.show(10)"
   ]
  },
  {
   "cell_type": "code",
   "execution_count": 29,
   "id": "c52a121bbb8c7bf4",
   "metadata": {
    "ExecuteTime": {
     "end_time": "2023-12-13T18:08:21.407289Z",
     "start_time": "2023-12-13T18:08:21.374912Z"
    },
    "collapsed": false,
    "jupyter": {
     "outputs_hidden": false
    }
   },
   "outputs": [
    {
     "data": {
      "text/plain": [
       "DataFrame[userId: int, movieId: int, rating: double, timestamp: bigint]"
      ]
     },
     "execution_count": 29,
     "metadata": {},
     "output_type": "execute_result"
    }
   ],
   "source": [
    "ratings_df"
   ]
  },
  {
   "cell_type": "code",
   "execution_count": 30,
   "id": "2c5ddefd834dec88",
   "metadata": {
    "ExecuteTime": {
     "end_time": "2023-12-13T18:08:27.391175Z",
     "start_time": "2023-12-13T18:08:22.613520Z"
    },
    "collapsed": false,
    "jupyter": {
     "outputs_hidden": false
    }
   },
   "outputs": [
    {
     "name": "stderr",
     "output_type": "stream",
     "text": [
      "[Stage 3:>                                                          (0 + 1) / 1]\r"
     ]
    },
    {
     "name": "stdout",
     "output_type": "stream",
     "text": [
      "Number of rows in the Ratings dataset: 100836\n"
     ]
    },
    {
     "name": "stderr",
     "output_type": "stream",
     "text": [
      "                                                                                \r"
     ]
    }
   ],
   "source": [
    "print(f'Number of rows in the Ratings dataset: {ratings_df.count()}')"
   ]
  },
  {
   "cell_type": "code",
   "execution_count": 31,
   "id": "ef67225de108b66d",
   "metadata": {
    "ExecuteTime": {
     "end_time": "2023-12-13T18:09:27.068322Z",
     "start_time": "2023-12-13T18:09:25.959644Z"
    },
    "collapsed": false,
    "jupyter": {
     "outputs_hidden": false
    }
   },
   "outputs": [
    {
     "name": "stderr",
     "output_type": "stream",
     "text": [
      "[Stage 4:>                                                          (0 + 1) / 1]\r"
     ]
    },
    {
     "name": "stdout",
     "output_type": "stream",
     "text": [
      "+------+-------+-----------------+----------+\n",
      "|userId|movieId|              tag| timestamp|\n",
      "+------+-------+-----------------+----------+\n",
      "|     2|  60756|            funny|1445714994|\n",
      "|     2|  60756|  Highly quotable|1445714996|\n",
      "|     2|  60756|     will ferrell|1445714992|\n",
      "|     2|  89774|     Boxing story|1445715207|\n",
      "|     2|  89774|              MMA|1445715200|\n",
      "|     2|  89774|        Tom Hardy|1445715205|\n",
      "|     2| 106782|            drugs|1445715054|\n",
      "|     2| 106782|Leonardo DiCaprio|1445715051|\n",
      "|     2| 106782|  Martin Scorsese|1445715056|\n",
      "|     7|  48516|     way too long|1169687325|\n",
      "+------+-------+-----------------+----------+\n",
      "only showing top 10 rows\n",
      "\n"
     ]
    },
    {
     "name": "stderr",
     "output_type": "stream",
     "text": [
      "                                                                                \r"
     ]
    }
   ],
   "source": [
    "tags_schema = StructType(fields=[\n",
    "    StructField(\"userId\", IntegerType()),\n",
    "    StructField(\"movieId\", IntegerType()),\n",
    "    StructField(\"tag\", StringType()),\n",
    "    StructField(\"timestamp\", LongType()),\n",
    "])\n",
    "\n",
    "tags_df = (spark\n",
    "           .read\n",
    "           .format(\"csv\")\n",
    "           .option(\"header\", \"True\")\n",
    "           .schema(tags_schema)\n",
    "           .load(\"ml-latest-small/tags.csv\"))\n",
    "\n",
    "tags_df.show(10)"
   ]
  },
  {
   "cell_type": "code",
   "execution_count": 32,
   "id": "3b283c4a7603aa2",
   "metadata": {
    "ExecuteTime": {
     "end_time": "2023-12-13T18:09:33.735938Z",
     "start_time": "2023-12-13T18:09:33.705742Z"
    },
    "collapsed": false,
    "jupyter": {
     "outputs_hidden": false
    }
   },
   "outputs": [
    {
     "data": {
      "text/plain": [
       "DataFrame[userId: int, movieId: int, tag: string, timestamp: bigint]"
      ]
     },
     "execution_count": 32,
     "metadata": {},
     "output_type": "execute_result"
    }
   ],
   "source": [
    "tags_df"
   ]
  },
  {
   "cell_type": "code",
   "execution_count": 33,
   "id": "8d68d20038e43000",
   "metadata": {
    "ExecuteTime": {
     "end_time": "2023-12-13T18:09:35.858628Z",
     "start_time": "2023-12-13T18:09:34.575614Z"
    },
    "collapsed": false,
    "jupyter": {
     "outputs_hidden": false
    }
   },
   "outputs": [
    {
     "name": "stdout",
     "output_type": "stream",
     "text": [
      "Number of rows in the Tags dataset: 3683\n"
     ]
    }
   ],
   "source": [
    "print(f'Number of rows in the Tags dataset: {tags_df.count()}')"
   ]
  },
  {
   "cell_type": "code",
   "execution_count": 34,
   "id": "287e52b6-d4ec-40a8-8114-8c47f3bbfd09",
   "metadata": {},
   "outputs": [],
   "source": [
    "spark.stop()"
   ]
  },
  {
   "cell_type": "markdown",
   "id": "2c071d3dff5d7a35",
   "metadata": {
    "collapsed": false,
    "jp-MarkdownHeadingCollapsed": true,
    "jupyter": {
     "outputs_hidden": false
    }
   },
   "source": [
    "## Spark Jobs Screens"
   ]
  },
  {
   "cell_type": "markdown",
   "id": "2dd7f40a00b5e029",
   "metadata": {
    "collapsed": false,
    "jupyter": {
     "outputs_hidden": false
    }
   },
   "source": [
    "### All jobs created as a result of two calls to the show and count methods\n",
    "![block1 jobs](images/block1_jobs.png)"
   ]
  },
  {
   "cell_type": "markdown",
   "id": "56d79fd9e64fe325",
   "metadata": {
    "collapsed": false,
    "jupyter": {
     "outputs_hidden": false
    }
   },
   "source": [
    "### All stages created as a result of two calls to the show and count methods\n",
    "![block1 stages](images/block1_stages.png)"
   ]
  },
  {
   "cell_type": "markdown",
   "id": "603c38dc043d4a5e",
   "metadata": {
    "collapsed": false,
    "jupyter": {
     "outputs_hidden": false
    }
   },
   "source": [
    "It is worth noting a rather interesting behavior when calling count(). For its execution two stages are really executed as expected, but it is done in an unusual way: two jobs are created, the first one receives data from the table, and the second job already has two stages, and the first stage is the same as the first job, so it is skipped and only the second stage is executed, which counts rows. After a little research I managed to find out that this is due to the fact that a high-level API is used, not RDD, because of which spark can apply non-obvious optimizations, including more than one job for an action."
   ]
  },
  {
   "cell_type": "markdown",
   "id": "5b36fcd67a4e9684",
   "metadata": {
    "collapsed": false,
    "jupyter": {
     "outputs_hidden": false
    }
   },
   "source": [
    "### First count job example\n",
    "![block1 count job1](images/block1_count_job1.png)"
   ]
  },
  {
   "cell_type": "markdown",
   "id": "aa457e5e7e5b5e3a",
   "metadata": {
    "collapsed": false,
    "jupyter": {
     "outputs_hidden": false
    }
   },
   "source": [
    "### Second count job example\n",
    "![block1 count job2](images/block1_count_job2.png)"
   ]
  },
  {
   "cell_type": "markdown",
   "id": "7387850e9a15d2af",
   "metadata": {
    "collapsed": false,
    "jp-MarkdownHeadingCollapsed": true,
    "jupyter": {
     "outputs_hidden": false
    }
   },
   "source": [
    "# Block #2"
   ]
  },
  {
   "cell_type": "markdown",
   "id": "1e411da7-05fd-4008-91c2-01f86802758a",
   "metadata": {
    "jp-MarkdownHeadingCollapsed": true
   },
   "source": [
    "### Start app"
   ]
  },
  {
   "cell_type": "code",
   "execution_count": null,
   "id": "900d0ef5-39e7-45b3-9352-4516c5718165",
   "metadata": {},
   "outputs": [],
   "source": [
    "%cd '/opt/itmo-bigdata/hw2/hadoop-notebook'"
   ]
  },
  {
   "cell_type": "code",
   "execution_count": null,
   "id": "eef609ba-0452-4760-b830-9b8ecb4c5c73",
   "metadata": {},
   "outputs": [],
   "source": [
    "conf = SparkConf().set(\"spark.executor.instances\", \"2\").set(\"spark.executor.cores\", \"1\").set(\"spark.executor.memory\", \"1g\")\n",
    "\n",
    "spark = SparkSession.builder.master(\"yarn\").appName(\"kopecky_spark\").getOrCreate()\n",
    "\n",
    "ratings_schema = StructType(fields=[\n",
    "    StructField(\"userId\", IntegerType()),\n",
    "    StructField(\"movieId\", IntegerType()),\n",
    "    StructField(\"rating\", DoubleType()),\n",
    "    StructField(\"timestamp\", LongType()),\n",
    "])\n",
    "\n",
    "ratings_df = (spark\n",
    "              .read\n",
    "              .format(\"csv\")\n",
    "              .option(\"header\", \"True\")\n",
    "              .schema(ratings_schema)\n",
    "              .load(\"ml-latest-small/ratings.csv\")\n",
    "              )\n",
    "\n",
    "tags_schema = StructType(fields=[\n",
    "    StructField(\"userId\", IntegerType()),\n",
    "    StructField(\"movieId\", IntegerType()),\n",
    "    StructField(\"tag\", StringType()),\n",
    "    StructField(\"timestamp\", LongType()),\n",
    "])\n",
    "\n",
    "tags_df = (spark\n",
    "           .read\n",
    "           .format(\"csv\")\n",
    "           .option(\"header\", \"True\")\n",
    "           .schema(tags_schema)\n",
    "           .load(\"ml-latest-small/tags.csv\"))"
   ]
  },
  {
   "cell_type": "markdown",
   "id": "5fadd8a7393deb89",
   "metadata": {
    "collapsed": false,
    "jp-MarkdownHeadingCollapsed": true,
    "jupyter": {
     "outputs_hidden": false
    }
   },
   "source": [
    "### Counting the number of unique movies and unique users in the \"ratings\" table"
   ]
  },
  {
   "cell_type": "code",
   "execution_count": 37,
   "id": "fc5ff445df79e06f",
   "metadata": {
    "ExecuteTime": {
     "end_time": "2023-12-12T20:40:05.271322Z",
     "start_time": "2023-12-12T20:40:00.256418Z"
    },
    "collapsed": false,
    "jupyter": {
     "outputs_hidden": false
    }
   },
   "outputs": [
    {
     "name": "stderr",
     "output_type": "stream",
     "text": [
      "                                                                                \r"
     ]
    },
    {
     "name": "stdout",
     "output_type": "stream",
     "text": [
      "Number of unique movies: 9724\n"
     ]
    },
    {
     "name": "stderr",
     "output_type": "stream",
     "text": [
      "[Stage 6:>                                                          (0 + 1) / 1]\r"
     ]
    },
    {
     "name": "stdout",
     "output_type": "stream",
     "text": [
      "Number of unique users: 610\n"
     ]
    },
    {
     "name": "stderr",
     "output_type": "stream",
     "text": [
      "                                                                                \r"
     ]
    }
   ],
   "source": [
    "unique_movies = ratings_df.select(\"movieId\").distinct().count()\n",
    "print(\"Number of unique movies:\", unique_movies)\n",
    "\n",
    "unique_users = ratings_df.select(\"userId\").distinct().count()\n",
    "print(\"Number of unique users:\", unique_users)"
   ]
  },
  {
   "cell_type": "markdown",
   "id": "4a1e5c4a-23c3-4da7-a0bb-a5953645b15d",
   "metadata": {
    "jp-MarkdownHeadingCollapsed": true
   },
   "source": [
    "### Counting how many movie ratings were given a score of 4.0 or higher"
   ]
  },
  {
   "cell_type": "code",
   "execution_count": 38,
   "id": "1923cc7b-e2ce-4ae9-9804-a426e0c5ce24",
   "metadata": {
    "ExecuteTime": {
     "end_time": "2023-12-12T20:41:36.201758Z",
     "start_time": "2023-12-12T20:41:33.133487Z"
    },
    "collapsed": false,
    "jupyter": {
     "outputs_hidden": false
    }
   },
   "outputs": [
    {
     "name": "stderr",
     "output_type": "stream",
     "text": [
      "[Stage 12:>                                                         (0 + 1) / 1]\r"
     ]
    },
    {
     "name": "stdout",
     "output_type": "stream",
     "text": [
      "Number of ratings >= 4.0: 48580\n"
     ]
    },
    {
     "name": "stderr",
     "output_type": "stream",
     "text": [
      "                                                                                \r"
     ]
    }
   ],
   "source": [
    "high_ratings_count = ratings_df.filter(ratings_df['rating'] >= 4.0).count()\n",
    "print(\"Number of ratings >= 4.0:\", high_ratings_count)"
   ]
  },
  {
   "cell_type": "markdown",
   "id": "51258155-7b3d-40a0-b7b2-b3acaaba86b5",
   "metadata": {
    "jp-MarkdownHeadingCollapsed": true
   },
   "source": [
    "### Displaying the top 100 movies with the highest rating"
   ]
  },
  {
   "cell_type": "code",
   "execution_count": 39,
   "id": "14b4143cf2f387c7",
   "metadata": {
    "ExecuteTime": {
     "end_time": "2023-12-12T20:50:40.716605Z",
     "start_time": "2023-12-12T20:50:38.740726Z"
    },
    "collapsed": false,
    "jupyter": {
     "outputs_hidden": false
    }
   },
   "outputs": [
    {
     "name": "stderr",
     "output_type": "stream",
     "text": [
      "                                                                                \r"
     ]
    },
    {
     "name": "stdout",
     "output_type": "stream",
     "text": [
      "+-------+--------------+\n",
      "|movieId|average_rating|\n",
      "+-------+--------------+\n",
      "|   2196|           5.0|\n",
      "|  88448|           5.0|\n",
      "| 172909|           5.0|\n",
      "|  67618|           5.0|\n",
      "|   3496|           5.0|\n",
      "|    148|           5.0|\n",
      "| 142444|           5.0|\n",
      "|    496|           5.0|\n",
      "|   8911|           5.0|\n",
      "| 118834|           5.0|\n",
      "| 173963|           5.0|\n",
      "| 156025|           5.0|\n",
      "|   5513|           5.0|\n",
      "| 120130|           5.0|\n",
      "|  26350|           5.0|\n",
      "|   1349|           5.0|\n",
      "| 147300|           5.0|\n",
      "| 122092|           5.0|\n",
      "|    633|           5.0|\n",
      "|  71268|           5.0|\n",
      "|    876|           5.0|\n",
      "|  99636|           5.0|\n",
      "|  53578|           5.0|\n",
      "|   6086|           5.0|\n",
      "| 160644|           5.0|\n",
      "|  47736|           5.0|\n",
      "|   5490|           5.0|\n",
      "| 164367|           5.0|\n",
      "| 172583|           5.0|\n",
      "| 172589|           5.0|\n",
      "| 126921|           5.0|\n",
      "|   3473|           5.0|\n",
      "|   3795|           5.0|\n",
      "|  50999|           5.0|\n",
      "|   3941|           5.0|\n",
      "| 141718|           5.0|\n",
      "|    626|           5.0|\n",
      "|  85295|           5.0|\n",
      "|  26928|           5.0|\n",
      "| 173619|           5.0|\n",
      "|  40491|           5.0|\n",
      "|   2824|           5.0|\n",
      "| 167064|           5.0|\n",
      "|  26147|           5.0|\n",
      "|  25906|           5.0|\n",
      "|   4454|           5.0|\n",
      "| 141928|           5.0|\n",
      "| 104780|           5.0|\n",
      "|   6201|           5.0|\n",
      "|   7096|           5.0|\n",
      "|   3792|           5.0|\n",
      "| 131724|           5.0|\n",
      "| 146684|           5.0|\n",
      "|  69211|           5.0|\n",
      "| 172793|           5.0|\n",
      "| 163925|           5.0|\n",
      "| 136469|           5.0|\n",
      "| 173355|           5.0|\n",
      "| 124851|           5.0|\n",
      "|   7815|           5.0|\n",
      "|   4788|           5.0|\n",
      "| 115727|           5.0|\n",
      "|   6835|           5.0|\n",
      "| 172705|           5.0|\n",
      "| 175387|           5.0|\n",
      "| 109633|           5.0|\n",
      "|  42556|           5.0|\n",
      "| 163112|           5.0|\n",
      "| 136353|           5.0|\n",
      "|  94810|           5.0|\n",
      "|  59814|           5.0|\n",
      "|  53355|           5.0|\n",
      "| 151769|           5.0|\n",
      "|  69860|           5.0|\n",
      "| 134004|           5.0|\n",
      "|  83969|           5.0|\n",
      "|  86237|           5.0|\n",
      "| 138632|           5.0|\n",
      "|  26840|           5.0|\n",
      "|  93022|           5.0|\n",
      "|  27523|           5.0|\n",
      "| 138835|           5.0|\n",
      "| 132333|           5.0|\n",
      "| 140627|           5.0|\n",
      "| 187717|           5.0|\n",
      "|   1151|           5.0|\n",
      "| 120138|           5.0|\n",
      "|  69469|           5.0|\n",
      "|  87834|           5.0|\n",
      "| 158398|           5.0|\n",
      "| 157775|           5.0|\n",
      "| 134847|           5.0|\n",
      "| 152711|           5.0|\n",
      "| 143559|           5.0|\n",
      "|  25887|           5.0|\n",
      "|   3086|           5.0|\n",
      "|  33138|           5.0|\n",
      "|   5088|           5.0|\n",
      "| 118894|           5.0|\n",
      "|  86668|           5.0|\n",
      "+-------+--------------+\n",
      "\n"
     ]
    }
   ],
   "source": [
    "top_100_movies = (ratings_df\n",
    "                   .groupBy(\"movieId\")\n",
    "                   .agg(avg(\"rating\").alias(\"average_rating\"))\n",
    "                   .orderBy(col(\"average_rating\").desc())\n",
    "                   .limit(100))\n",
    "top_100_movies.show(100)"
   ]
  },
  {
   "cell_type": "markdown",
   "id": "587ef4dc-3664-4cc8-99bb-ea84f88c8d84",
   "metadata": {
    "jp-MarkdownHeadingCollapsed": true
   },
   "source": [
    "### Calculating the time difference in seconds between the time a user tagged a movie and the time the same user rated the movie. Outputting the average time delta."
   ]
  },
  {
   "cell_type": "code",
   "execution_count": 40,
   "id": "9d9e4c8a7fc29059",
   "metadata": {
    "ExecuteTime": {
     "end_time": "2023-12-12T21:05:23.706848Z",
     "start_time": "2023-12-12T21:05:21.244092Z"
    },
    "collapsed": false,
    "jupyter": {
     "outputs_hidden": false
    }
   },
   "outputs": [
    {
     "name": "stderr",
     "output_type": "stream",
     "text": [
      "[Stage 19:>                                                         (0 + 1) / 1]\r"
     ]
    },
    {
     "name": "stdout",
     "output_type": "stream",
     "text": [
      "Average time difference (in seconds): 29203715.568469506\n"
     ]
    },
    {
     "name": "stderr",
     "output_type": "stream",
     "text": [
      "                                                                                \r"
     ]
    }
   ],
   "source": [
    "tags_df = tags_df.withColumnRenamed(\"timestamp\", \"tag_timestamp\")\n",
    "ratings_df = ratings_df.withColumnRenamed(\"timestamp\", \"rating_timestamp\")\n",
    "\n",
    "joined_df = tags_df.join(ratings_df, [\"userId\", \"movieId\"])\n",
    "time_diff_df = joined_df.withColumn(\"time_diff\", abs(col(\"tag_timestamp\") - col(\"rating_timestamp\")))\n",
    "average_time_diff_df = time_diff_df.agg(avg(\"time_diff\").alias(\"average_time_diff\"))\n",
    "\n",
    "average_time_diff_seconds = average_time_diff_df.collect()[0][\"average_time_diff\"]\n",
    "print(\"Average time difference (in seconds):\", average_time_diff_seconds)"
   ]
  },
  {
   "cell_type": "markdown",
   "id": "84f49be3-a0f0-4d06-8d3b-28eb7bbf7937",
   "metadata": {
    "jp-MarkdownHeadingCollapsed": true
   },
   "source": [
    "### Calculating the average rating from each user, and then outputting the average of all these average ratings across all users."
   ]
  },
  {
   "cell_type": "code",
   "execution_count": 41,
   "id": "21141fdc-fdc8-4e82-a0f7-dfd8868223f9",
   "metadata": {
    "collapsed": false,
    "jupyter": {
     "outputs_hidden": false
    }
   },
   "outputs": [
    {
     "name": "stdout",
     "output_type": "stream",
     "text": [
      "Overall average rating: 3.6572223377474016\n"
     ]
    }
   ],
   "source": [
    "average_ratings_per_user = ratings_df.groupBy(\"userId\").agg(avg(\"rating\").alias(\"average_rating\"))\n",
    "overall_average_rating = average_ratings_per_user.agg(avg(\"average_rating\").alias('avg_rating'))\n",
    "print(\"Overall average rating:\", overall_average_rating.collect()[0][\"avg_rating\"])"
   ]
  },
  {
   "cell_type": "markdown",
   "id": "f9546989-2668-4353-a3c2-76797060ed9b",
   "metadata": {
    "jp-MarkdownHeadingCollapsed": true
   },
   "source": [
    "### Stop app"
   ]
  },
  {
   "cell_type": "code",
   "execution_count": 42,
   "id": "de084f1c-d272-4b30-a3fd-f865f4dcd205",
   "metadata": {},
   "outputs": [],
   "source": [
    "spark.stop()"
   ]
  },
  {
   "cell_type": "markdown",
   "id": "98eca878-0015-4299-a649-1a5e21356ce4",
   "metadata": {
    "jp-MarkdownHeadingCollapsed": true
   },
   "source": [
    "# Block #3"
   ]
  },
  {
   "cell_type": "markdown",
   "id": "37c62a94-8875-47be-9243-a43676d664cd",
   "metadata": {
    "jp-MarkdownHeadingCollapsed": true
   },
   "source": [
    "### Start app"
   ]
  },
  {
   "cell_type": "code",
   "execution_count": null,
   "id": "e925867a-45e7-4e6b-b4b2-7356f30e9f7e",
   "metadata": {},
   "outputs": [],
   "source": [
    "%cd '/opt/itmo-bigdata/hw2/hadoop-notebook'"
   ]
  },
  {
   "cell_type": "code",
   "execution_count": null,
   "id": "b7d56c83-7a3b-47df-be6c-fa7844a9d0e9",
   "metadata": {},
   "outputs": [],
   "source": [
    "conf = SparkConf().set(\"spark.executor.instances\", \"2\").set(\"spark.executor.cores\", \"1\").set(\"spark.executor.memory\", \"1g\")\n",
    "\n",
    "spark = SparkSession.builder.master(\"yarn\").appName(\"kopecky_spark\").getOrCreate()\n",
    "\n",
    "ratings_schema = StructType(fields=[\n",
    "    StructField(\"userId\", IntegerType()),\n",
    "    StructField(\"movieId\", IntegerType()),\n",
    "    StructField(\"rating\", DoubleType()),\n",
    "    StructField(\"timestamp\", LongType()),\n",
    "])\n",
    "\n",
    "ratings_df = (spark\n",
    "              .read\n",
    "              .format(\"csv\")\n",
    "              .option(\"header\", \"True\")\n",
    "              .schema(ratings_schema)\n",
    "              .load(\"ml-latest-small/ratings.csv\")\n",
    "              )\n",
    "\n",
    "tags_schema = StructType(fields=[\n",
    "    StructField(\"userId\", IntegerType()),\n",
    "    StructField(\"movieId\", IntegerType()),\n",
    "    StructField(\"tag\", StringType()),\n",
    "    StructField(\"timestamp\", LongType()),\n",
    "])\n",
    "\n",
    "tags_df = (spark\n",
    "           .read\n",
    "           .format(\"csv\")\n",
    "           .option(\"header\", \"True\")\n",
    "           .schema(tags_schema)\n",
    "           .load(\"ml-latest-small/tags.csv\"))"
   ]
  },
  {
   "cell_type": "markdown",
   "id": "2864435f-4bbc-4061-91c3-92292a67973d",
   "metadata": {
    "jp-MarkdownHeadingCollapsed": true
   },
   "source": [
    "### UDF"
   ]
  },
  {
   "cell_type": "code",
   "execution_count": 47,
   "id": "93c2aec9-bb1e-46ab-9843-1df722747647",
   "metadata": {
    "scrolled": true
   },
   "outputs": [
    {
     "name": "stderr",
     "output_type": "stream",
     "text": [
      "[Stage 2:>                                                          (0 + 1) / 1]\r"
     ]
    },
    {
     "name": "stdout",
     "output_type": "stream",
     "text": [
      "+------+-------+--------------------+----------+----------------+\n",
      "|userId|movieId|                 tag| timestamp|predicted_rating|\n",
      "+------+-------+--------------------+----------+----------------+\n",
      "|     2|  60756|               funny|1445714994|        4.368023|\n",
      "|     2|  60756|     Highly quotable|1445714996|       3.9453294|\n",
      "|     2|  60756|        will ferrell|1445714992|        4.031532|\n",
      "|     2|  89774|        Boxing story|1445715207|         3.93356|\n",
      "|     2|  89774|                 MMA|1445715200|       3.4211416|\n",
      "|     2|  89774|           Tom Hardy|1445715205|       3.8342075|\n",
      "|     2| 106782|               drugs|1445715054|       4.2840347|\n",
      "|     2| 106782|   Leonardo DiCaprio|1445715051|        4.236813|\n",
      "|     2| 106782|     Martin Scorsese|1445715056|        3.849058|\n",
      "|     7|  48516|        way too long|1169687325|       3.4277177|\n",
      "|    18|    431|           Al Pacino|1462138765|       3.8518403|\n",
      "|    18|    431|            gangster|1462138749|       3.6180396|\n",
      "|    18|    431|               mafia|1462138755|        4.160604|\n",
      "|    18|   1221|           Al Pacino|1461699306|       3.8518403|\n",
      "|    18|   1221|               Mafia|1461699303|        4.160604|\n",
      "|    18|   5995|           holocaust|1455735472|        3.969982|\n",
      "|    18|   5995|          true story|1455735479|       3.8555765|\n",
      "|    18|  44665|        twist ending|1456948283|        4.835948|\n",
      "|    18|  52604|     Anthony Hopkins|1457650696|       3.3803353|\n",
      "|    18|  52604|     courtroom drama|1457650711|       3.8468468|\n",
      "|    18|  52604|        twist ending|1457650682|        4.835948|\n",
      "|    18|  88094|             britpop|1457444500|        3.267519|\n",
      "|    18|  88094|  indie record label|1457444592|       3.2683747|\n",
      "|    18|  88094|               music|1457444609|        4.290018|\n",
      "|    18| 144210|     dumpster diving|1455060381|        3.344303|\n",
      "|    18| 144210|      Sustainability|1455060452|       3.3423584|\n",
      "|    21|   1569|     romantic comedy|1419805413|       4.2371407|\n",
      "|    21|   1569|             wedding|1419805419|       3.4057586|\n",
      "|    21| 118985|             painter|1419805477|       3.2209637|\n",
      "|    21| 119141|              bloody|1419793962|       3.5372617|\n",
      "|    49| 109487|          black hole|1493093306|       3.8547046|\n",
      "|    49| 109487|              sci-fi|1493093332|        4.290622|\n",
      "|    49| 109487|         time-travel|1493093356|       4.2335596|\n",
      "|    62|      2|             fantasy|1528843929|        3.932217|\n",
      "|    62|      2|    magic board game|1528843932|       3.7457414|\n",
      "|    62|      2|      Robin Williams|1528843907|       3.6946862|\n",
      "|    62|    110|   beautiful scenery|1528152541|       3.9974895|\n",
      "|    62|    110|                epic|1528152532|       3.9645975|\n",
      "|    62|    110|          historical|1528152523|       3.3834612|\n",
      "|    62|    110|       inspirational|1528152527|       3.8140965|\n",
      "|    62|    110|            Medieval|1528152528|       3.3813252|\n",
      "|    62|    110|          mel gibson|1528152521|        3.418556|\n",
      "|    62|    110|Oscar (Best Cinem...|1528152539|       4.3400226|\n",
      "|    62|    110|             revenge|1528152531|        4.170877|\n",
      "|    62|    110|         sword fight|1528152535|       3.3850436|\n",
      "|    62|    410|        black comedy|1525636607|        4.638289|\n",
      "|    62|    410|     Christina Ricci|1525636685|       3.5674021|\n",
      "|    62|    410|   Christopher Lloyd|1525636622|       3.7474341|\n",
      "|    62|    410|         dark comedy|1525636610|       4.8998175|\n",
      "|    62|    410|              family|1525636708|        4.112796|\n",
      "+------+-------+--------------------+----------+----------------+\n",
      "only showing top 50 rows\n",
      "\n"
     ]
    },
    {
     "name": "stderr",
     "output_type": "stream",
     "text": [
      "                                                                                \r"
     ]
    }
   ],
   "source": [
    "joined_df = tags_df.join(ratings_df, [\"userId\", \"movieId\"])\n",
    "joined_pandas_df = joined_df.toPandas()\n",
    "\n",
    "tfidf = TfidfVectorizer()\n",
    "X_tfidf = tfidf.fit_transform(joined_pandas_df['tag'])\n",
    "y = joined_pandas_df['rating']\n",
    "\n",
    "sgd_regressor = SGDRegressor()\n",
    "sgd_regressor.fit(X_tfidf, y)\n",
    "\n",
    "def predict_rating(tag):\n",
    "    transformed_tag = tfidf.transform([tag])\n",
    "    return float(sgd_regressor.predict(transformed_tag)[0])\n",
    "\n",
    "predict_rating_udf = udf(predict_rating, FloatType())\n",
    "\n",
    "ratings_predictions = tags_df.withColumn(\"predicted_rating\", predict_rating_udf(col(\"tag\")))\n",
    "\n",
    "ratings_predictions.show(50)"
   ]
  },
  {
   "cell_type": "markdown",
   "id": "5a1ed441-3d8b-46db-8803-5aa4ba57aa05",
   "metadata": {},
   "source": [
    "Stages\n",
    "![block3 stages](images/block3_stages.png)"
   ]
  },
  {
   "cell_type": "markdown",
   "id": "c2672a6d-b63a-4e3f-8995-befa21f5084b",
   "metadata": {},
   "source": [
    "Diagrams\n",
    "\n",
    "![block3 diagram 1](images/block3_udf_diagram1.png)\n",
    "![block3 diagram 1](images/block3_udf_diagram2.png)"
   ]
  },
  {
   "cell_type": "markdown",
   "id": "e2ad960c-6243-44bd-b7ce-47cb4744ca41",
   "metadata": {
    "jp-MarkdownHeadingCollapsed": true
   },
   "source": [
    "### RMSE"
   ]
  },
  {
   "cell_type": "code",
   "execution_count": 48,
   "id": "3edfde71-a4ab-495b-a888-915fa78417c9",
   "metadata": {},
   "outputs": [
    {
     "name": "stderr",
     "output_type": "stream",
     "text": [
      "[Stage 4:>                                                          (0 + 1) / 1]\r"
     ]
    },
    {
     "name": "stdout",
     "output_type": "stream",
     "text": [
      "RMSE: 0.8743434511207214\n"
     ]
    },
    {
     "name": "stderr",
     "output_type": "stream",
     "text": [
      "                                                                                \r"
     ]
    }
   ],
   "source": [
    "full_predictions = ratings_predictions.join(ratings_df, [\"userId\", \"movieId\"])\n",
    "evaluator = RegressionEvaluator(labelCol=\"rating\", predictionCol=\"predicted_rating\", metricName=\"rmse\")\n",
    "rmse = evaluator.evaluate(full_predictions)\n",
    "print(\"RMSE:\", rmse)"
   ]
  },
  {
   "cell_type": "markdown",
   "id": "28e53369-4c1c-4946-9f67-6764bef50c38",
   "metadata": {},
   "source": [
    "Stages\n",
    "![block3 rmse stages](images/block3_rmse_stages.png)"
   ]
  },
  {
   "cell_type": "markdown",
   "id": "cece8d40-783a-4b8b-bdda-45e7b848942e",
   "metadata": {},
   "source": [
    "Diagrams\n",
    "\n",
    "![block3 dag 1](images/block3_dag_visualization1.png)\n",
    "![block3 dag 1](images/block3_dag_visualization2.png)"
   ]
  },
  {
   "cell_type": "markdown",
   "id": "7880e994-8003-4e7b-a2d2-05fd25bc0264",
   "metadata": {
    "jp-MarkdownHeadingCollapsed": true
   },
   "source": [
    "### Stop app"
   ]
  },
  {
   "cell_type": "code",
   "execution_count": 49,
   "id": "7dcd8eae-1f1d-4f37-a60a-c0bcd7109094",
   "metadata": {},
   "outputs": [],
   "source": [
    "spark.stop()"
   ]
  }
 ],
 "metadata": {
  "kernelspec": {
   "display_name": "Python 3 (ipykernel)",
   "language": "python",
   "name": "python3"
  },
  "language_info": {
   "codemirror_mode": {
    "name": "ipython",
    "version": 3
   },
   "file_extension": ".py",
   "mimetype": "text/x-python",
   "name": "python",
   "nbconvert_exporter": "python",
   "pygments_lexer": "ipython3",
   "version": "3.10.12"
  }
 },
 "nbformat": 4,
 "nbformat_minor": 5
}
